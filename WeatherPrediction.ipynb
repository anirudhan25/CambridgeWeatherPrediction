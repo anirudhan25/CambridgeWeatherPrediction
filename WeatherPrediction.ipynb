{
  "nbformat": 4,
  "nbformat_minor": 0,
  "metadata": {
    "colab": {
      "name": "WeatherPrediction.ipynb",
      "provenance": [],
      "collapsed_sections": [],
      "mount_file_id": "1iGS1pYwlLUUyTk0JhHf4CMbvuC8efBT7",
      "authorship_tag": "ABX9TyOqdIZ6IMg3JyMmEda6ntUB"
    },
    "kernelspec": {
      "name": "python3",
      "display_name": "Python 3"
    },
    "language_info": {
      "name": "python"
    }
  },
  "cells": [
    {
      "cell_type": "code",
      "execution_count": null,
      "metadata": {
        "id": "hERf0EV_h4cm"
      },
      "outputs": [],
      "source": [
        "!pip install neuralprophet"
      ]
    },
    {
      "cell_type": "code",
      "source": [
        "import pandas as pd\n",
        "from neuralprophet import NeuralProphet\n",
        "import matplotlib.pyplot as plt\n",
        "import pickle as pickle"
      ],
      "metadata": {
        "id": "DzzT78aniDKv"
      },
      "execution_count": null,
      "outputs": []
    },
    {
      "cell_type": "code",
      "source": [
        "df = pd.read_csv(\"/weather-raw.csv\")\n",
        "df.tail()"
      ],
      "metadata": {
        "id": "MPQg_ddKitW3"
      },
      "execution_count": null,
      "outputs": []
    },
    {
      "cell_type": "code",
      "source": [
        "del df  # DELETE AND REFRESH DATAFRAME WHEN CHANGING DATE RANGE"
      ],
      "metadata": {
        "id": "naRRqJcXqMEK"
      },
      "execution_count": null,
      "outputs": []
    },
    {
      "cell_type": "code",
      "source": [
        "df = pd.read_csv(\"/weather-raw.csv\")\n",
        "df.columns = ['Timestamp', 'Temperature', 'Humidity', 'Dew Point', 'Pressure', 'Mean wind speed', 'Average wind bearing',\n",
        "              'Sunshine', 'Rainfall', 'Max wind speed']\n",
        "df[\"Timestamp\"] = pd.to_datetime(df[\"Timestamp\"])  # selecting which years we want to include\n",
        "df.dtypes\n",
        "\n",
        "df[\"Year\"] = df[\"Timestamp\"].apply(lambda x: x.year)\n",
        "df = df[df[\"Year\"] >= 2022]\n",
        "\n",
        "'''\n",
        "fixing magnitude of certain fields\n",
        "'''\n",
        "\n",
        "df[\"Temperature\"] = df[\"Temperature\"]/10 \n",
        "df['Dew Point'] = df[\"Dew Point\"]/10\n",
        "df['Mean wind speed'] = df[\"Mean wind speed\"]/10\n",
        "df['Max wind speed'] = df[\"Max wind speed\"]/10\n",
        "\n",
        "df.head()"
      ],
      "metadata": {
        "id": "k2LX6U8TkLq6"
      },
      "execution_count": null,
      "outputs": []
    },
    {
      "cell_type": "code",
      "source": [
        "data = df[[\"Timestamp\", \"Temperature\"]]\n",
        "data.dropna(inplace=True)\n",
        "data.columns = [\"ds\", \"y\"]\n",
        "data.tail()\n",
        "\n",
        "model = NeuralProphet()  # training model for temperature\n",
        "model.fit(data)\n"
      ],
      "metadata": {
        "id": "T4QKFZLcV-hg"
      },
      "execution_count": null,
      "outputs": []
    },
    {
      "cell_type": "code",
      "source": [
        "future = model.make_future_dataframe(data, periods=74)  # predict \n",
        "forecast = model.predict(future)\n",
        "forecast.tail()"
      ],
      "metadata": {
        "id": "fVKErobejljr"
      },
      "execution_count": null,
      "outputs": []
    },
    {
      "cell_type": "code",
      "source": [
        "plot1 = model.plot(forecast)"
      ],
      "metadata": {
        "id": "hxOagi4cdQE-"
      },
      "execution_count": null,
      "outputs": []
    },
    {
      "cell_type": "code",
      "source": [
        "plot2 = model.plot_components(forecast)"
      ],
      "metadata": {
        "id": "FL6TjZkfggTq"
      },
      "execution_count": null,
      "outputs": []
    }
  ]
}